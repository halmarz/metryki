{
 "cells": [
  {
   "cell_type": "code",
   "execution_count": 138,
   "metadata": {},
   "outputs": [],
   "source": [
    "import tensorflow as tf\n",
    "import datetime\n",
    "import numpy as np\n",
    "from tensorflow import keras\n",
    "from tensorflow.keras import layers\n",
    "import matplotlib.pyplot as plt\n",
    "import sklearn.metrics as metrics\n",
    "from sklearn.metrics import mean_squared_error\n",
    "from sklearn.metrics import classification_report\n",
    "from sklearn import metrics\n",
    "from sklearn.metrics import accuracy_score\n",
    "# import accuracy_score \n"
   ]
  },
  {
   "cell_type": "code",
   "execution_count": 139,
   "metadata": {},
   "outputs": [
    {
     "name": "stdout",
     "output_type": "stream",
     "text": [
      "x_train shape: (60000, 28, 28, 1)\n",
      "60000 train samples\n",
      "10000 test samples\n"
     ]
    }
   ],
   "source": [
    "\n",
    "\n",
    "num_classes = 10\n",
    "input_shape = (28, 28, 1)\n",
    "\n",
    "# Load the data and split it between train and test sets\n",
    "(x_train, y_train), (x_test, y_test) = keras.datasets.mnist.load_data()\n",
    "\n",
    "# Scale images to the [0, 1] range\n",
    "x_train = x_train.astype(\"float32\") / 255\n",
    "x_test = x_test.astype(\"float32\") / 255\n",
    "# Make sure images have shape (28, 28, 1)\n",
    "x_train = np.expand_dims(x_train, -1)\n",
    "x_test = np.expand_dims(x_test, -1)\n",
    "print(\"x_train shape:\", x_train.shape)\n",
    "print(x_train.shape[0], \"train samples\")\n",
    "print(x_test.shape[0], \"test samples\")\n",
    "\n",
    "\n",
    "# convert class vectors to binary class matrices\n",
    "y_train = keras.utils.to_categorical(y_train, num_classes)\n",
    "y_test = keras.utils.to_categorical(y_test, num_classes)"
   ]
  },
  {
   "cell_type": "code",
   "execution_count": 140,
   "metadata": {},
   "outputs": [],
   "source": [
    "def create_model():\n",
    "  return tf.keras.models.Sequential([\n",
    "    tf.keras.layers.Flatten(input_shape=(28, 28)),\n",
    "    tf.keras.layers.Dense(512, activation='relu'),\n",
    "    tf.keras.layers.Dropout(0.2),\n",
    "    tf.keras.layers.Dense(10, activation='softmax')\n",
    "  ])\n"
   ]
  },
  {
   "cell_type": "code",
   "execution_count": 141,
   "metadata": {},
   "outputs": [
    {
     "name": "stdout",
     "output_type": "stream",
     "text": [
      "Model: \"sequential_39\"\n",
      "_________________________________________________________________\n",
      " Layer (type)                Output Shape              Param #   \n",
      "=================================================================\n",
      " flatten_39 (Flatten)        (None, 784)               0         \n",
      "                                                                 \n",
      " dense_70 (Dense)            (None, 512)               401920    \n",
      "                                                                 \n",
      " dropout_39 (Dropout)        (None, 512)               0         \n",
      "                                                                 \n",
      " dense_71 (Dense)            (None, 10)                5130      \n",
      "                                                                 \n",
      "=================================================================\n",
      "Total params: 407,050\n",
      "Trainable params: 407,050\n",
      "Non-trainable params: 0\n",
      "_________________________________________________________________\n"
     ]
    }
   ],
   "source": [
    "model = create_model()\n",
    "model.compile(optimizer=\"adam\", loss='sparse_categorical_crossentropy', metrics=[\"accuracy\"])\n",
    "\n",
    "model.summary()"
   ]
  },
  {
   "cell_type": "code",
   "execution_count": 142,
   "metadata": {},
   "outputs": [],
   "source": [
    "# m = tf.keras.metrics.AUC()\n",
    "# m.update_state([0, 1, 1, 1], [0, 1, 0, 0])\n",
    "# print('Intermediate result:', float(m.result()))\n",
    "\n",
    "# m.update_state([1, 1, 1, 1], [0, 1, 1, 0])\n",
    "# print('Final result:', float(m.result()))"
   ]
  },
  {
   "cell_type": "code",
   "execution_count": 143,
   "metadata": {},
   "outputs": [
    {
     "name": "stdout",
     "output_type": "stream",
     "text": [
      "Model: \"sequential_40\"\n",
      "_________________________________________________________________\n",
      " Layer (type)                Output Shape              Param #   \n",
      "=================================================================\n",
      " flatten_40 (Flatten)        (None, 784)               0         \n",
      "                                                                 \n",
      " dense_72 (Dense)            (None, 512)               401920    \n",
      "                                                                 \n",
      " dropout_40 (Dropout)        (None, 512)               0         \n",
      "                                                                 \n",
      " dense_73 (Dense)            (None, 10)                5130      \n",
      "                                                                 \n",
      "=================================================================\n",
      "Total params: 407,050\n",
      "Trainable params: 407,050\n",
      "Non-trainable params: 0\n",
      "_________________________________________________________________\n"
     ]
    }
   ],
   "source": [
    "model = create_model()\n",
    "model.compile(optimizer=\"adam\", loss='mean_squared_error', metrics=[\"accuracy\"])\n",
    "\n",
    "model.summary()"
   ]
  },
  {
   "cell_type": "code",
   "execution_count": 144,
   "metadata": {},
   "outputs": [
    {
     "name": "stdout",
     "output_type": "stream",
     "text": [
      "Test loss: 0.09172151982784271\n",
      "Test accuracy: 0.06870000064373016\n"
     ]
    }
   ],
   "source": [
    "score = model.evaluate(x_test, y_test, verbose=0)\n",
    "print(\"Test loss:\", score[0])\n",
    "print(\"Test accuracy:\", score[1])"
   ]
  },
  {
   "cell_type": "code",
   "execution_count": 145,
   "metadata": {},
   "outputs": [
    {
     "name": "stdout",
     "output_type": "stream",
     "text": [
      "Model: \"sequential_41\"\n",
      "_________________________________________________________________\n",
      " Layer (type)                Output Shape              Param #   \n",
      "=================================================================\n",
      " conv2d_16 (Conv2D)          (None, 26, 26, 32)        320       \n",
      "                                                                 \n",
      " max_pooling2d_16 (MaxPoolin  (None, 13, 13, 32)       0         \n",
      " g2D)                                                            \n",
      "                                                                 \n",
      " conv2d_17 (Conv2D)          (None, 11, 11, 64)        18496     \n",
      "                                                                 \n",
      " max_pooling2d_17 (MaxPoolin  (None, 5, 5, 64)         0         \n",
      " g2D)                                                            \n",
      "                                                                 \n",
      " flatten_41 (Flatten)        (None, 1600)              0         \n",
      "                                                                 \n",
      " dropout_41 (Dropout)        (None, 1600)              0         \n",
      "                                                                 \n",
      " dense_74 (Dense)            (None, 10)                16010     \n",
      "                                                                 \n",
      "=================================================================\n",
      "Total params: 34,826\n",
      "Trainable params: 34,826\n",
      "Non-trainable params: 0\n",
      "_________________________________________________________________\n"
     ]
    }
   ],
   "source": [
    "model = keras.Sequential(\n",
    "    [\n",
    "        keras.Input(shape=input_shape),\n",
    "        layers.Conv2D(32, kernel_size=(3, 3), activation=\"relu\"),\n",
    "        layers.MaxPooling2D(pool_size=(2, 2)),\n",
    "        layers.Conv2D(64, kernel_size=(3, 3), activation=\"relu\"),\n",
    "        layers.MaxPooling2D(pool_size=(2, 2)),\n",
    "        layers.Flatten(),\n",
    "        layers.Dropout(0.5),\n",
    "        layers.Dense(num_classes, activation=\"softmax\"),\n",
    "    ]\n",
    ")\n",
    "\n",
    "model.summary()"
   ]
  },
  {
   "cell_type": "code",
   "execution_count": 146,
   "metadata": {},
   "outputs": [],
   "source": [
    "# batch_size = 128\n",
    "# epochs = 3\n",
    "\n",
    "# model.compile(  \n",
    "#     loss='mean_squared_error', \n",
    "#     optimizer=\"adam\", \n",
    "#     metrics=[metrics.MeanSquaredError()]\n",
    "# )\n",
    "\n",
    "# model.fit(x_train, y_train, batch_size=batch_size, epochs=epochs, validation_split=0.1)"
   ]
  },
  {
   "cell_type": "code",
   "execution_count": 147,
   "metadata": {},
   "outputs": [
    {
     "name": "stdout",
     "output_type": "stream",
     "text": [
      "Epoch 1/3\n",
      "422/422 [==============================] - 16s 37ms/step - loss: 0.0905 - accuracy: 0.0000e+00 - val_loss: 0.0900 - val_accuracy: 0.0000e+00\n",
      "Epoch 2/3\n",
      "422/422 [==============================] - 16s 38ms/step - loss: 0.0901 - accuracy: 0.0000e+00 - val_loss: 0.0897 - val_accuracy: 0.0000e+00\n",
      "Epoch 3/3\n",
      "422/422 [==============================] - 16s 37ms/step - loss: 0.0898 - accuracy: 0.0000e+00 - val_loss: 0.0894 - val_accuracy: 0.0000e+00\n"
     ]
    },
    {
     "data": {
      "text/plain": [
       "<keras.callbacks.History at 0x1510cabb8e0>"
      ]
     },
     "execution_count": 147,
     "metadata": {},
     "output_type": "execute_result"
    }
   ],
   "source": [
    "tf.keras.metrics.Accuracy(name=\"accuracy\", dtype=None)\n",
    "\n",
    "model.compile(optimizer='sgd',\n",
    "              loss='mse',\n",
    "              metrics=[tf.keras.metrics.Accuracy()])\n",
    "\n",
    "model.fit(x_train, y_train, batch_size=batch_size, epochs=epochs, validation_split=0.1)"
   ]
  },
  {
   "cell_type": "code",
   "execution_count": 150,
   "metadata": {},
   "outputs": [
    {
     "name": "stdout",
     "output_type": "stream",
     "text": [
      "Epoch 1/3\n",
      "422/422 [==============================] - 16s 37ms/step - loss: 0.0664 - accuracy: 0.0000e+00 - val_loss: 0.0584 - val_accuracy: 0.0000e+00\n",
      "Epoch 2/3\n",
      "422/422 [==============================] - 15s 36ms/step - loss: 0.0624 - accuracy: 0.0000e+00 - val_loss: 0.0531 - val_accuracy: 0.0000e+00\n",
      "Epoch 3/3\n",
      "422/422 [==============================] - 16s 37ms/step - loss: 0.0588 - accuracy: 0.0000e+00 - val_loss: 0.0484 - val_accuracy: 0.0000e+00\n"
     ]
    },
    {
     "data": {
      "image/png": "[encoded data removed]",
      "text/plain": [
       "<Figure size 640x480 with 1 Axes>"
      ]
     },
     "metadata": {},
     "output_type": "display_data"
    }
   ],
   "source": [
    "history = model.fit(x_train, y_train, batch_size=batch_size, epochs=epochs, validation_split=0.1)\n",
    "plt.plot(history.history['accuracy'])\n",
    "plt.plot(history.history['val_accuracy'])\n",
    "plt.title('model accuracy')\n",
    "plt.ylabel('accuracy')\n",
    "plt.xlabel('epoch')\n",
    "plt.legend(['train', 'test'], loc='upper left')\n",
    "plt.show()"
   ]
  },
  {
   "cell_type": "code",
   "execution_count": 149,
   "metadata": {},
   "outputs": [
    {
     "name": "stdout",
     "output_type": "stream",
     "text": [
      "Epoch 1/15\n",
      "422/422 [==============================] - 16s 37ms/step - loss: 0.0895 - accuracy: 0.0000e+00 - val_loss: 0.0891 - val_accuracy: 0.0000e+00\n",
      "Epoch 2/15\n",
      "422/422 [==============================] - 15s 36ms/step - loss: 0.0892 - accuracy: 0.0000e+00 - val_loss: 0.0887 - val_accuracy: 0.0000e+00\n",
      "Epoch 3/15\n",
      "422/422 [==============================] - 16s 37ms/step - loss: 0.0888 - accuracy: 0.0000e+00 - val_loss: 0.0884 - val_accuracy: 0.0000e+00\n",
      "Epoch 4/15\n",
      "422/422 [==============================] - 16s 37ms/step - loss: 0.0885 - accuracy: 0.0000e+00 - val_loss: 0.0880 - val_accuracy: 0.0000e+00\n",
      "Epoch 5/15\n",
      "422/422 [==============================] - 15s 37ms/step - loss: 0.0881 - accuracy: 0.0000e+00 - val_loss: 0.0875 - val_accuracy: 0.0000e+00\n",
      "Epoch 6/15\n",
      "422/422 [==============================] - 15s 36ms/step - loss: 0.0876 - accuracy: 0.0000e+00 - val_loss: 0.0869 - val_accuracy: 0.0000e+00\n",
      "Epoch 7/15\n",
      "422/422 [==============================] - 16s 37ms/step - loss: 0.0870 - accuracy: 0.0000e+00 - val_loss: 0.0862 - val_accuracy: 0.0000e+00\n",
      "Epoch 8/15\n",
      "422/422 [==============================] - 16s 37ms/step - loss: 0.0864 - accuracy: 0.0000e+00 - val_loss: 0.0854 - val_accuracy: 0.0000e+00\n",
      "Epoch 9/15\n",
      "422/422 [==============================] - 16s 37ms/step - loss: 0.0854 - accuracy: 0.0000e+00 - val_loss: 0.0842 - val_accuracy: 0.0000e+00\n",
      "Epoch 10/15\n",
      "422/422 [==============================] - 15s 36ms/step - loss: 0.0842 - accuracy: 0.0000e+00 - val_loss: 0.0827 - val_accuracy: 0.0000e+00\n",
      "Epoch 11/15\n",
      "422/422 [==============================] - 16s 37ms/step - loss: 0.0826 - accuracy: 0.0000e+00 - val_loss: 0.0805 - val_accuracy: 0.0000e+00\n",
      "Epoch 12/15\n",
      "422/422 [==============================] - 15s 36ms/step - loss: 0.0805 - accuracy: 0.0000e+00 - val_loss: 0.0776 - val_accuracy: 0.0000e+00\n",
      "Epoch 13/15\n",
      "422/422 [==============================] - 15s 37ms/step - loss: 0.0778 - accuracy: 0.0000e+00 - val_loss: 0.0739 - val_accuracy: 0.0000e+00\n",
      "Epoch 14/15\n",
      "422/422 [==============================] - 15s 36ms/step - loss: 0.0744 - accuracy: 0.0000e+00 - val_loss: 0.0692 - val_accuracy: 0.0000e+00\n",
      "Epoch 15/15\n",
      "422/422 [==============================] - 16s 37ms/step - loss: 0.0705 - accuracy: 0.0000e+00 - val_loss: 0.0639 - val_accuracy: 0.0000e+00\n"
     ]
    },
    {
     "data": {
      "text/plain": [
       "<keras.callbacks.History at 0x1510bd18970>"
      ]
     },
     "execution_count": 149,
     "metadata": {},
     "output_type": "execute_result"
    }
   ],
   "source": [
    "tf.keras.metrics.Accuracy(name=\"accuracy\", dtype=None)\n",
    "\n",
    "model.compile(optimizer='sgd',\n",
    "              loss='mse',\n",
    "              metrics=[tf.keras.metrics.Accuracy()])\n",
    "\n",
    "model.fit(x_train, y_train, batch_size=128, epochs=15, validation_split=0.1)"
   ]
  },
  {
   "cell_type": "code",
   "execution_count": 152,
   "metadata": {},
   "outputs": [
    {
     "name": "stdout",
     "output_type": "stream",
     "text": [
      "Epoch 1/15\n",
      "422/422 [==============================] - 16s 38ms/step - loss: 0.0471 - accuracy: 0.0000e+00 - val_loss: 0.0343 - val_accuracy: 0.0000e+00\n",
      "Epoch 2/15\n",
      "245/422 [================>.............] - ETA: 6s - loss: 0.0453 - accuracy: 0.0000e+00"
     ]
    }
   ],
   "source": [
    "history = model.fit(x_train, y_train, batch_size=128, epochs=15, validation_split=0.1)\n",
    "plt.plot(history.history['accuracy'])\n",
    "plt.plot(history.history['val_accuracy'])\n",
    "plt.title('model accuracy')\n",
    "plt.ylabel('accuracy')\n",
    "plt.xlabel('epoch')\n",
    "plt.legend(['train', 'test'], loc='upper left')\n",
    "plt.show()"
   ]
  }
 ],
 "metadata": {
  "kernelspec": {
   "display_name": "Python 3.10.7 64-bit",
   "language": "python",
   "name": "python3"
  },
  "language_info": {
   "name": "python",
   "version": "3.10.7"
  },
  "orig_nbformat": 4,
  "vscode": {
   "interpreter": {
    "hash": "26de051ba29f2982a8de78e945f0abaf191376122a1563185a90213a26c5da77"
   }
  }
 },
 "nbformat": 4,
 "nbformat_minor": 2
}
